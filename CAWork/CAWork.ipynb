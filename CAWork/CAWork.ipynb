{
  "nbformat": 4,
  "nbformat_minor": 0,
  "metadata": {
    "colab": {
      "provenance": []
    },
    "kernelspec": {
      "name": "python3",
      "display_name": "Python 3"
    },
    "language_info": {
      "name": "python"
    }
  },
  "cells": [
    {
      "cell_type": "markdown",
      "source": [
        "***Before Anything, Press Runtime and Press Run All***"
      ],
      "metadata": {
        "id": "XCynJQn0vez7"
      }
    },
    {
      "cell_type": "markdown",
      "source": [
        "**Week 10** Hypothesis Testing"
      ],
      "metadata": {
        "id": "xR7R_mZouCxh"
      }
    },
    {
      "cell_type": "code",
      "execution_count": null,
      "metadata": {
        "id": "5shf7igDt0r6"
      },
      "outputs": [],
      "source": [
        "#Import packages\n",
        "import scipy.stats as stats\n",
        "from scipy.stats import ttest_1samp\n",
        "from scipy.stats import ttest_ind\n",
        "from scipy.stats import ttest_rel\n",
        "import pandas as pd"
      ]
    },
    {
      "cell_type": "markdown",
      "source": [
        "Load & Read Dataset"
      ],
      "metadata": {
        "id": "_UZclR3VuNEh"
      }
    },
    {
      "cell_type": "code",
      "source": [
        "#load and read the dataset\n",
        "df =pd.read_csv('exercise_dataset.csv')\n",
        "df.head()"
      ],
      "metadata": {
        "id": "A_uqWeWkuPBR"
      },
      "execution_count": null,
      "outputs": []
    },
    {
      "cell_type": "markdown",
      "source": [
        "**Pearson’s Correlation Coefficient**"
      ],
      "metadata": {
        "id": "JIKExauGuSHh"
      }
    },
    {
      "cell_type": "markdown",
      "source": [
        "Calculate Pearson correlation coefficient between 'duration' and 'Calories Burn' and confrim the bewlow hypothses:\n",
        "\n",
        "Hypotheses\n",
        "\n",
        "H0: There is no significant correlation between exercise time and calories burned.\n",
        "\n",
        "H1: There is a significant correlation between exercise time and calories burned."
      ],
      "metadata": {
        "id": "nJRBm087ucjG"
      }
    },
    {
      "cell_type": "code",
      "source": [
        "stats.pearsonr(df['Duration'], df['Calories Burn'])"
      ],
      "metadata": {
        "id": "WXCrvoEiuQK_"
      },
      "execution_count": null,
      "outputs": []
    },
    {
      "cell_type": "markdown",
      "source": [
        "There is no Correlation between the two as the result was 0, so I have confidence there is none."
      ],
      "metadata": {
        "id": "FqoasLFoutSQ"
      }
    },
    {
      "cell_type": "markdown",
      "source": [
        "**One-Sample T-test**"
      ],
      "metadata": {
        "id": "rjOzyDPYuiUX"
      }
    },
    {
      "cell_type": "markdown",
      "source": [
        "Assuming you want to test if the mean weight of participants is significantly different from the population mean weight (70 kg).\n",
        "\n",
        "Hypothisis\n",
        "\n",
        "H0: The mean weight of participants is equal to the population mean weight (70 kg).\n",
        "\n",
        "H1: The mean weight of participants is significantly different from the population mean weight (70 kg)."
      ],
      "metadata": {
        "id": "5l8JM9pculAj"
      }
    },
    {
      "cell_type": "code",
      "source": [
        "stats.ttest_1samp(df['Actual Weight'], 70)"
      ],
      "metadata": {
        "id": "sPgBAiVaunh9"
      },
      "execution_count": null,
      "outputs": []
    },
    {
      "cell_type": "markdown",
      "source": [
        "My Hypothsis Answer: H1 - The P Value is Less Than 0.05 due to the e-99 in the result"
      ],
      "metadata": {
        "id": "JISu9FI4usHz"
      }
    },
    {
      "cell_type": "markdown",
      "source": [
        "**Two-Sample T-test**"
      ],
      "metadata": {
        "id": "JOo26yNfupqs"
      }
    },
    {
      "cell_type": "markdown",
      "source": [
        "Assuming you want to test if there is a significant difference in exercise time between male and female participants.\n",
        "\n",
        "Hypotheses\n",
        "\n",
        "H0: There is no significant difference in exercise time between male and female participants.\n",
        "\n",
        "H1: There is a significant difference in exercise time between male and female participants."
      ],
      "metadata": {
        "id": "igGBi2hwuzRf"
      }
    },
    {
      "cell_type": "code",
      "source": [
        "group1 = df[df['Gender']=='Male']\n",
        "group2 = df[df['Gender']=='Female']\n",
        "\n",
        "ttest_ind(group1['Duration'], group2['Duration'])"
      ],
      "metadata": {
        "id": "UZR25k_iu1Uf"
      },
      "execution_count": null,
      "outputs": []
    },
    {
      "cell_type": "markdown",
      "source": [
        "Your Hypothsis Answer: H0 as there is no significant difference in exercise time between Men and Women, P Value is greater than 0.05"
      ],
      "metadata": {
        "id": "Bxg1QQcvu37D"
      }
    },
    {
      "cell_type": "markdown",
      "source": [
        "**Paired T-test**"
      ],
      "metadata": {
        "id": "2yFvzRyRu615"
      }
    },
    {
      "cell_type": "markdown",
      "source": [
        "Assuming you want to test if there is a significant difference in weight before and after exercise.\n",
        "\n",
        "- Hint (look at the dataset for the varaible that represnt the \"after exercise\")\n",
        "\n",
        "Hypotheses\n",
        "\n",
        "H0: There is no significant difference in weight before and after exercise.\n",
        "\n",
        "H1: There is a significant difference in weight before and after exercise."
      ],
      "metadata": {
        "id": "iYRZ03DPu81g"
      }
    },
    {
      "cell_type": "code",
      "source": [
        "ttest_rel(df['Actual Weight'], df['Dream Weight'])"
      ],
      "metadata": {
        "id": "kGjuPOS7u_cT"
      },
      "execution_count": null,
      "outputs": []
    },
    {
      "cell_type": "markdown",
      "source": [
        "Your Hypothsis Answer: H0 - P Value is Greater than 0.05"
      ],
      "metadata": {
        "id": "GfOsRctKvAvi"
      }
    },
    {
      "cell_type": "markdown",
      "source": [
        "**Week 8** Calculating Correlation Using Numpy"
      ],
      "metadata": {
        "id": "or2BpWLZvCnD"
      }
    },
    {
      "cell_type": "code",
      "source": [
        "import numpy as np"
      ],
      "metadata": {
        "id": "5WKQ9ZaVvJMK"
      },
      "execution_count": null,
      "outputs": []
    },
    {
      "cell_type": "code",
      "source": [
        "x = np.arange(10, 20)\n",
        "x"
      ],
      "metadata": {
        "id": "5ZVWJDmAvKaX"
      },
      "execution_count": null,
      "outputs": []
    },
    {
      "cell_type": "code",
      "source": [
        "y= np.array([2, 1, 4, 5, 8, 12, 18, 25, 96, 48])\n",
        "y"
      ],
      "metadata": {
        "id": "InbXMgubvLqp"
      },
      "execution_count": null,
      "outputs": []
    },
    {
      "cell_type": "code",
      "source": [
        "c = np.corrcoef(x,y)\n",
        "c"
      ],
      "metadata": {
        "id": "TH5ZbN_QvMt1"
      },
      "execution_count": null,
      "outputs": []
    },
    {
      "cell_type": "markdown",
      "source": [
        "**Calculating Correlation Using Scipy**"
      ],
      "metadata": {
        "id": "R5TCHgV9vONK"
      }
    },
    {
      "cell_type": "code",
      "source": [
        "import scipy.stats"
      ],
      "metadata": {
        "id": "7qqE7r_LvWNa"
      },
      "execution_count": null,
      "outputs": []
    },
    {
      "cell_type": "code",
      "source": [
        "x = np.arange(10, 20)\n",
        "y = np.array([2, 1, 4, 5, 8, 12, 18, 25, 96, 48])"
      ],
      "metadata": {
        "id": "tjYCsyjfvXVi"
      },
      "execution_count": null,
      "outputs": []
    },
    {
      "cell_type": "code",
      "source": [
        "scipy.stats.pearsonr(x, y).correlation"
      ],
      "metadata": {
        "id": "ZythHzIWvZnm"
      },
      "execution_count": null,
      "outputs": []
    },
    {
      "cell_type": "code",
      "source": [
        "scipy.stats.spearmanr(x,y)"
      ],
      "metadata": {
        "id": "4KsTAU9Rvb_0"
      },
      "execution_count": null,
      "outputs": []
    },
    {
      "cell_type": "code",
      "source": [
        "scipy.stats.kendalltau(x,y)"
      ],
      "metadata": {
        "id": "d1bRQKhevcdW"
      },
      "execution_count": null,
      "outputs": []
    },
    {
      "cell_type": "markdown",
      "source": [
        "**Calculating Correlation Using Pandas**"
      ],
      "metadata": {
        "id": "8urz7WPDvj4a"
      }
    },
    {
      "cell_type": "code",
      "source": [
        "import pandas as pd"
      ],
      "metadata": {
        "id": "YydUsPIWvmxj"
      },
      "execution_count": null,
      "outputs": []
    },
    {
      "cell_type": "code",
      "source": [
        "x = pd.Series(range(10, 20))"
      ],
      "metadata": {
        "id": "ayl7UMILvnr8"
      },
      "execution_count": null,
      "outputs": []
    },
    {
      "cell_type": "code",
      "source": [
        "y = pd.Series([2, 1, 4, 5, 8, 12, 18, 25, 96, 48])"
      ],
      "metadata": {
        "id": "LEleu3RWvowo"
      },
      "execution_count": null,
      "outputs": []
    },
    {
      "cell_type": "code",
      "source": [
        "x.corr(y)"
      ],
      "metadata": {
        "id": "FEJ8kyC1vqYa"
      },
      "execution_count": null,
      "outputs": []
    },
    {
      "cell_type": "code",
      "source": [
        "y.corr(x)"
      ],
      "metadata": {
        "id": "BkKcVsd6vr5a"
      },
      "execution_count": null,
      "outputs": []
    },
    {
      "cell_type": "code",
      "source": [
        "df= pd.read_csv('/content/sample_data/SF Salaries.csv')"
      ],
      "metadata": {
        "id": "RjuwOhv0vrx0"
      },
      "execution_count": null,
      "outputs": []
    },
    {
      "cell_type": "code",
      "source": [
        "df.head()"
      ],
      "metadata": {
        "id": "A-q8517qvvDw"
      },
      "execution_count": null,
      "outputs": []
    },
    {
      "cell_type": "code",
      "source": [
        "k= df.corr()"
      ],
      "metadata": {
        "id": "KikE1IOZvwYC"
      },
      "execution_count": null,
      "outputs": []
    },
    {
      "cell_type": "code",
      "source": [
        "import seaborn as sns"
      ],
      "metadata": {
        "id": "lvLonm-svxZz"
      },
      "execution_count": null,
      "outputs": []
    },
    {
      "cell_type": "code",
      "source": [
        "sns.heatmap(k)"
      ],
      "metadata": {
        "id": "Ee5buk_5vyJP"
      },
      "execution_count": null,
      "outputs": []
    },
    {
      "cell_type": "markdown",
      "source": [
        "**Exploratory Data Analysis**"
      ],
      "metadata": {
        "id": "x8AmHXfkv4sI"
      }
    },
    {
      "cell_type": "markdown",
      "source": [
        "Importing the Data"
      ],
      "metadata": {
        "id": "MxXTGUacwFGk"
      }
    },
    {
      "cell_type": "code",
      "source": [
        "import pandas as pd\n",
        "import numpy as np\n",
        "import matplotlib.pyplot as plt\n",
        "import seaborn as sns"
      ],
      "metadata": {
        "id": "9F8QwA4UwJFu"
      },
      "execution_count": null,
      "outputs": []
    },
    {
      "cell_type": "markdown",
      "source": [
        "Reading in the File"
      ],
      "metadata": {
        "id": "7-2eSTkNwKgB"
      }
    },
    {
      "cell_type": "code",
      "source": [
        "file_path = \"EcomCust.csv\"\n",
        "Customers = pd.read_csv(file_path)"
      ],
      "metadata": {
        "id": "Oq5L01bkwKC3"
      },
      "execution_count": null,
      "outputs": []
    },
    {
      "cell_type": "markdown",
      "source": [
        "Printing the Head of the Dataset"
      ],
      "metadata": {
        "id": "vt2-uGtewPvg"
      }
    },
    {
      "cell_type": "code",
      "source": [
        "Customers.head()"
      ],
      "metadata": {
        "id": "xet3Bg1RwS86"
      },
      "execution_count": null,
      "outputs": []
    },
    {
      "cell_type": "markdown",
      "source": [
        "Printing the Dataset Using Info"
      ],
      "metadata": {
        "id": "8W0sxPN9wT9k"
      }
    },
    {
      "cell_type": "code",
      "source": [
        "Customers.info()"
      ],
      "metadata": {
        "id": "xC6ugFDVwWsw"
      },
      "execution_count": null,
      "outputs": []
    },
    {
      "cell_type": "markdown",
      "source": [
        "Printing the Dataset Using Describe"
      ],
      "metadata": {
        "id": "RIbOxSwNwXQE"
      }
    },
    {
      "cell_type": "code",
      "source": [
        "Customers.describe()"
      ],
      "metadata": {
        "id": "B6DmqI0VwZp1"
      },
      "execution_count": null,
      "outputs": []
    },
    {
      "cell_type": "markdown",
      "source": [
        "Using Seaborn, Create JointPlot to Compare Columns"
      ],
      "metadata": {
        "id": "MDgPQ422waSd"
      }
    },
    {
      "cell_type": "code",
      "source": [
        "#Create JoinPLot\n",
        "sns.set(style=\"whitegrid\")\n",
        "sns.jointplot(x='Time on Website', y='Yearly Amount Spent', data=Customers)\n",
        "#Show Plot\n",
        "plt.show()"
      ],
      "metadata": {
        "id": "C5jiQo5iwhkH"
      },
      "execution_count": null,
      "outputs": []
    },
    {
      "cell_type": "markdown",
      "source": [
        "Use JointPlot to Create a 2D Hex Bin Plot to Compare 2 Columns"
      ],
      "metadata": {
        "id": "lQQC0KYHwje6"
      }
    },
    {
      "cell_type": "code",
      "source": [
        "#Create 2D Hex\n",
        "sns.set(style=\"whitegrid\")  # Optional: Set the style for the plot\n",
        "sns.jointplot(x='Time on App', y='Length of Membership', kind='hex', data=Customers)\n",
        "\n",
        "#Show Plot\n",
        "plt.show()"
      ],
      "metadata": {
        "id": "er2xR6oEwqWa"
      },
      "execution_count": null,
      "outputs": []
    },
    {
      "cell_type": "markdown",
      "source": [
        "Use PairPlot to Recreate Plots"
      ],
      "metadata": {
        "id": "vtnv6nV5wp0f"
      }
    },
    {
      "cell_type": "code",
      "source": [
        "sns.pairplot(Customers)"
      ],
      "metadata": {
        "id": "l-ONAMhhwvG1"
      },
      "execution_count": null,
      "outputs": []
    },
    {
      "cell_type": "markdown",
      "source": [
        "Based off this plot what looks to be the most correlated feature with Yearly Amount Spent?"
      ],
      "metadata": {
        "id": "OYoR5CE8wv6a"
      }
    },
    {
      "cell_type": "markdown",
      "source": [
        "The Length of Membership seems to have the most tightly packed scatter in relation to the Yearly Amount Spent."
      ],
      "metadata": {
        "id": "BCSLkRoGwyfl"
      }
    },
    {
      "cell_type": "markdown",
      "source": [
        "Create Linear Model Plot using Seaborn Lmplot to Compare Columns"
      ],
      "metadata": {
        "id": "nJgDBEIkwz-l"
      }
    },
    {
      "cell_type": "code",
      "source": [
        "sns.lmplot(x='Length of Membership', y='Yearly Amount Spent', data=Customers)"
      ],
      "metadata": {
        "id": "OQ4qE2BMw7OQ"
      },
      "execution_count": null,
      "outputs": []
    },
    {
      "cell_type": "markdown",
      "source": [
        "**Training & Testing Data**"
      ],
      "metadata": {
        "id": "F7JVS-xIxCWn"
      }
    },
    {
      "cell_type": "markdown",
      "source": [
        "Set Variable X for all Numerical, Y to a Single Column"
      ],
      "metadata": {
        "id": "nKrArui3xABG"
      }
    },
    {
      "cell_type": "code",
      "source": [
        "#Select Numericals for X\n",
        "X = Customers[[\"Avg. Session Length\", \"Time on App\", \"Time on Website\", \"Length of Membership\"]]\n",
        "\n",
        "#Select Target Value for Y\n",
        "Y = Customers[\"Yearly Amount Spent\"]"
      ],
      "metadata": {
        "id": "civRb69exIoN"
      },
      "execution_count": null,
      "outputs": []
    },
    {
      "cell_type": "markdown",
      "source": [
        "Use Training SKLearn to Split Data into Training & Testing"
      ],
      "metadata": {
        "id": "bKCh9w3mxJRy"
      }
    },
    {
      "cell_type": "code",
      "source": [
        "from sklearn.model_selection import train_test_split\n",
        "# Split the data into training and testing sets\n",
        "X_train, X_test, Y_train, Y_test = train_test_split(X, Y, test_size=0.3, random_state=101)"
      ],
      "metadata": {
        "id": "O8ePSq_hxOGr"
      },
      "execution_count": null,
      "outputs": []
    },
    {
      "cell_type": "markdown",
      "source": [
        "**Training the Model**"
      ],
      "metadata": {
        "id": "9uoJm75vxQfH"
      }
    },
    {
      "cell_type": "markdown",
      "source": [
        "Import LinearRegression"
      ],
      "metadata": {
        "id": "kGZGwGFlxTFj"
      }
    },
    {
      "cell_type": "code",
      "source": [
        "from sklearn.linear_model import LinearRegression"
      ],
      "metadata": {
        "id": "stEW1AAyxS4z"
      },
      "execution_count": null,
      "outputs": []
    },
    {
      "cell_type": "markdown",
      "source": [
        "Create Instance of LinearRegression called LM (lm)"
      ],
      "metadata": {
        "id": "WdlNRwYBxXAB"
      }
    },
    {
      "cell_type": "code",
      "source": [
        "#Creating Instance of Regression\n",
        "lm = LinearRegression()"
      ],
      "metadata": {
        "id": "nhE5jQJTxP_r"
      },
      "execution_count": null,
      "outputs": []
    },
    {
      "cell_type": "markdown",
      "source": [
        "Train & Fit LM (lm) on Training Data"
      ],
      "metadata": {
        "id": "D51SGjImxdaB"
      }
    },
    {
      "cell_type": "code",
      "source": [
        "lm.fit(X_train, Y_train)"
      ],
      "metadata": {
        "id": "uPgtV8xAxirx"
      },
      "execution_count": null,
      "outputs": []
    },
    {
      "cell_type": "markdown",
      "source": [
        "Print Out the Coefficients of the Model"
      ],
      "metadata": {
        "id": "BeAEhc1sxnrL"
      }
    },
    {
      "cell_type": "code",
      "source": [
        "coeff_df = pd.DataFrame(lm.coef_,X.columns,columns=['Coefficient'])\n",
        "coeff_df"
      ],
      "metadata": {
        "id": "vB9WbcgWxrpT"
      },
      "execution_count": null,
      "outputs": []
    },
    {
      "cell_type": "markdown",
      "source": [
        "**Predicting Test Data**"
      ],
      "metadata": {
        "id": "k9kBs4M-xtFM"
      }
    },
    {
      "cell_type": "code",
      "source": [
        "from sklearn.metrics import mean_squared_error, r2_score\n",
        "predictions = lm.predict(X_test)\n",
        "\n",
        "# Calculate Mean Squared Error\n",
        "mse = mean_squared_error(y_test, predictions)\n",
        "print(f\"Mean Squared Error: {mse}\")\n",
        "\n",
        "# Calculate R-squared\n",
        "r2 = r2_score(y_test, predictions)\n",
        "print(f\"R-squared: {r2}\")"
      ],
      "metadata": {
        "id": "vuKlGhYVxwPH"
      },
      "execution_count": null,
      "outputs": []
    },
    {
      "cell_type": "markdown",
      "source": [
        "Create ScatterPlot of Real Test Values vs Predicted"
      ],
      "metadata": {
        "id": "3bPNuvHMxyOQ"
      }
    },
    {
      "cell_type": "code",
      "source": [
        "plt.scatter(y_test, predictions)\n",
        "plt.xlabel(\"True Values (y_test)\")\n",
        "plt.ylabel(\"Predicted Values\")\n",
        "plt.title(\"Scatter Plot of True vs. Predicted Values\")\n",
        "plt.show()"
      ],
      "metadata": {
        "id": "jq54k9IBx1S8"
      },
      "execution_count": null,
      "outputs": []
    },
    {
      "cell_type": "markdown",
      "source": [
        "**Evaluating the Model**"
      ],
      "metadata": {
        "id": "_fB3IY9hx28W"
      }
    },
    {
      "cell_type": "code",
      "source": [
        "from sklearn.metrics import mean_absolute_error, mean_squared_error\n",
        "\n",
        "# Calculate Mean Absolute Error\n",
        "mae = mean_absolute_error(y_test, predictions)\n",
        "print(f\"Mean Absolute Error: {mae}\")\n",
        "\n",
        "# Calculate Mean Squared Error\n",
        "mse = mean_squared_error(y_test, predictions)\n",
        "print(f\"Mean Squared Error: {mse}\")\n",
        "\n",
        "# Calculate Root Mean Squared Error\n",
        "rmse = mse**0.5\n",
        "print(f\"Root Mean Squared Error: {rmse}\")"
      ],
      "metadata": {
        "id": "Gp-aB8GOx5Ld"
      },
      "execution_count": null,
      "outputs": []
    },
    {
      "cell_type": "markdown",
      "source": [
        "Plot Histogram of Residuals using Seaborn Distplot or PltHist"
      ],
      "metadata": {
        "id": "ht_m38nIx68Y"
      }
    },
    {
      "cell_type": "code",
      "source": [
        "# Calculate residuals\n",
        "residuals = y_test - predictions\n",
        "\n",
        "# Plot histogram of residuals using Seaborn\n",
        "sns.histplot(residuals, kde=True)\n",
        "plt.xlabel(\"Yearly Amount Spent\")\n",
        "plt.ylabel(\"Density\")\n",
        "plt.show()"
      ],
      "metadata": {
        "id": "NHrWEIGCyBBb"
      },
      "execution_count": null,
      "outputs": []
    },
    {
      "cell_type": "markdown",
      "source": [
        "**Week 7** Graphing w/ Imports"
      ],
      "metadata": {
        "id": "oy1gpCgzyZw-"
      }
    },
    {
      "cell_type": "markdown",
      "source": [
        "Import Packages"
      ],
      "metadata": {
        "id": "ZGXUS20cydby"
      }
    },
    {
      "cell_type": "code",
      "source": [
        "import seaborn as sns\n",
        "import matplotlib.pyplot as plt\n",
        "\n",
        "titanic = sns.load_dataset('titanic')\n",
        "\n",
        "titanic.head()"
      ],
      "metadata": {
        "id": "RxvNJ8tbygmi"
      },
      "execution_count": null,
      "outputs": []
    },
    {
      "cell_type": "markdown",
      "source": [
        "JointPlot:"
      ],
      "metadata": {
        "id": "Cg-bCnUpyrFp"
      }
    },
    {
      "cell_type": "code",
      "source": [
        "sns.jointplot(x='fare', y='age', data=titanic, kind='scatter')"
      ],
      "metadata": {
        "id": "Omx7VQF5ypfF"
      },
      "execution_count": null,
      "outputs": []
    },
    {
      "cell_type": "markdown",
      "source": [
        "DistPlot:"
      ],
      "metadata": {
        "id": "S1LMy-4Jyt0r"
      }
    },
    {
      "cell_type": "code",
      "source": [
        "sns.distplot(titanic['fare'],bins=30,kde=False,color='red')"
      ],
      "metadata": {
        "id": "g0XjjQXxyw_L"
      },
      "execution_count": null,
      "outputs": []
    },
    {
      "cell_type": "markdown",
      "source": [
        "StripPlot:"
      ],
      "metadata": {
        "id": "sp8PCzklyxwP"
      }
    },
    {
      "cell_type": "code",
      "source": [
        "sns.stripplot(x='alive', y='age', data=titanic, hue = 'sex', jitter = True,)"
      ],
      "metadata": {
        "id": "Uty1N74iy18L"
      },
      "execution_count": null,
      "outputs": []
    },
    {
      "cell_type": "markdown",
      "source": [
        "BoxPlot:"
      ],
      "metadata": {
        "id": "D5eyCM1Ay3_8"
      }
    },
    {
      "cell_type": "code",
      "source": [
        "sns.boxplot(x='alive', y='age', data=titanic, hue='sex', palette='coolwarm')"
      ],
      "metadata": {
        "id": "yTx1w-C_y3gy"
      },
      "execution_count": null,
      "outputs": []
    },
    {
      "cell_type": "code",
      "source": [
        "sns.boxplot(x='class', y='age', data=titanic, palette = 'rainbow')"
      ],
      "metadata": {
        "id": "n24k2TeGy-Ax"
      },
      "execution_count": null,
      "outputs": []
    },
    {
      "cell_type": "code",
      "source": [
        "sns.swarmplot(x='class',y='age',data=titanic,palette='Set2')"
      ],
      "metadata": {
        "id": "rPzhet4QzACp"
      },
      "execution_count": null,
      "outputs": []
    },
    {
      "cell_type": "markdown",
      "source": [
        "CountPlot:"
      ],
      "metadata": {
        "id": "SU6SptGxy9uB"
      }
    },
    {
      "cell_type": "code",
      "source": [
        "sns.countplot(x='sex', data = titanic)"
      ],
      "metadata": {
        "id": "DE25eWDIzHZj"
      },
      "execution_count": null,
      "outputs": []
    },
    {
      "cell_type": "markdown",
      "source": [
        "HeatMap:"
      ],
      "metadata": {
        "id": "unsf7owny6Td"
      }
    },
    {
      "cell_type": "code",
      "source": [
        "sns.heatmap(titanic.corr(), cmap='coolwarm')"
      ],
      "metadata": {
        "id": "QMu9zHh_zKZo"
      },
      "execution_count": null,
      "outputs": []
    },
    {
      "cell_type": "markdown",
      "source": [
        "FacetGrid:"
      ],
      "metadata": {
        "id": "aRyU552PzSBu"
      }
    },
    {
      "cell_type": "code",
      "source": [
        "g = sns.FacetGrid(titanic, col='sex')\n",
        "g.map(plt.hist, 'age')"
      ],
      "metadata": {
        "id": "Wyi1W1rczTaK"
      },
      "execution_count": null,
      "outputs": []
    }
  ]
}